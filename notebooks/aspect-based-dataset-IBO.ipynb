{
 "cells": [
  {
   "cell_type": "code",
   "execution_count": 5,
   "metadata": {},
   "outputs": [],
   "source": [
    "import os\n",
    "import numpy as np\n",
    "import pandas as pd\n",
    "from bs4 import BeautifulSoup\n",
    "from pathlib import Path"
   ]
  },
  {
   "cell_type": "markdown",
   "metadata": {},
   "source": [
    "# raw text to list"
   ]
  },
  {
   "cell_type": "code",
   "execution_count": 4,
   "metadata": {},
   "outputs": [
    {
     "data": {
      "text/plain": [
       "PosixPath('/Users/smap10/Project/aspect-extraction/notebooks')"
      ]
     },
     "execution_count": 4,
     "metadata": {},
     "output_type": "execute_result"
    }
   ],
   "source": [
    "Path.cwd()"
   ]
  },
  {
   "cell_type": "code",
   "execution_count": 8,
   "metadata": {},
   "outputs": [
    {
     "data": {
      "text/plain": [
       "PosixPath('/Users/smap10/Project/aspect-extraction')"
      ]
     },
     "execution_count": 8,
     "metadata": {},
     "output_type": "execute_result"
    }
   ],
   "source": [
    "Path.cwd().parent"
   ]
  },
  {
   "cell_type": "code",
   "execution_count": 11,
   "metadata": {},
   "outputs": [
    {
     "data": {
      "text/plain": [
       "PosixPath('/Users/smap10/Project/aspect-extraction/raw-data/semeval-2016/train.xml')"
      ]
     },
     "execution_count": 11,
     "metadata": {},
     "output_type": "execute_result"
    }
   ],
   "source": [
    "train_file = Path.cwd().parent.joinpath('raw-data/semeval-2016/train.xml')\n",
    "train_file"
   ]
  },
  {
   "cell_type": "code",
   "execution_count": 34,
   "metadata": {},
   "outputs": [],
   "source": [
    "soup = None\n",
    "with train_file.open(encoding=\"utf-8\") as f:\n",
    "    soup = BeautifulSoup(f.read().strip(), \"lxml-xml\")\n",
    "\n",
    "if soup is None:\n",
    "    raise Exception(\"Can't read xml file\")\n",
    "\n",
    "sentence_nodes = soup.find_all(\"sentence\")"
   ]
  },
  {
   "cell_type": "code",
   "execution_count": 41,
   "metadata": {},
   "outputs": [
    {
     "data": {
      "text/plain": [
       "2000"
      ]
     },
     "execution_count": 41,
     "metadata": {},
     "output_type": "execute_result"
    }
   ],
   "source": [
    "len(sentence_nodes)"
   ]
  },
  {
   "cell_type": "code",
   "execution_count": 35,
   "metadata": {},
   "outputs": [
    {
     "name": "stdout",
     "output_type": "stream",
     "text": [
      "<sentence id=\"1004293:0\">\n",
      "<text>Judging from previous posts this used to be a good place, but not any longer.</text>\n",
      "<Opinions>\n",
      "<Opinion category=\"RESTAURANT#GENERAL\" from=\"51\" polarity=\"negative\" target=\"place\" to=\"56\"/>\n",
      "</Opinions>\n",
      "</sentence>\n",
      "\n",
      "<sentence id=\"1004293:1\">\n",
      "<text>We, there were four of us, arrived at noon - the place was empty - and the staff acted like we were imposing on them and they were very rude.</text>\n",
      "<Opinions>\n",
      "<Opinion category=\"SERVICE#GENERAL\" from=\"75\" polarity=\"negative\" target=\"staff\" to=\"80\"/>\n",
      "</Opinions>\n",
      "</sentence>\n",
      "\n",
      "<sentence id=\"1004293:2\">\n",
      "<text>They never brought us complimentary noodles, ignored repeated requests for sugar, and threw our dishes on the table.</text>\n",
      "<Opinions>\n",
      "<Opinion category=\"SERVICE#GENERAL\" from=\"0\" polarity=\"negative\" target=\"NULL\" to=\"0\"/>\n",
      "</Opinions>\n",
      "</sentence>\n",
      "\n",
      "<sentence id=\"1004293:3\">\n",
      "<text>The food was lousy - too sweet or too salty and the portions tiny.</text>\n",
      "<Opinions>\n",
      "<Opinion category=\"FOOD#QUALITY\" from=\"4\" polarity=\"negative\" target=\"food\" to=\"8\"/>\n",
      "<Opinion category=\"FOOD#STYLE_OPTIONS\" from=\"52\" polarity=\"negative\" target=\"portions\" to=\"60\"/>\n",
      "</Opinions>\n",
      "</sentence>\n",
      "\n",
      "<sentence id=\"1004293:4\">\n",
      "<text>After all that, they complained to me about the small tip.</text>\n",
      "<Opinions>\n",
      "<Opinion category=\"SERVICE#GENERAL\" from=\"0\" polarity=\"negative\" target=\"NULL\" to=\"0\"/>\n",
      "</Opinions>\n",
      "</sentence>\n",
      "\n",
      "<sentence id=\"1004293:5\">\n",
      "<text>Avoid this place!</text>\n",
      "<Opinions>\n",
      "<Opinion category=\"RESTAURANT#GENERAL\" from=\"11\" polarity=\"negative\" target=\"place\" to=\"16\"/>\n",
      "</Opinions>\n",
      "</sentence>\n",
      "\n",
      "<sentence id=\"1014458:0\">\n",
      "<text>I have eaten at Saul, many times, the food is always consistently, outrageously good.</text>\n",
      "<Opinions>\n",
      "<Opinion category=\"FOOD#QUALITY\" from=\"38\" polarity=\"positive\" target=\"food\" to=\"42\"/>\n",
      "</Opinions>\n",
      "</sentence>\n",
      "\n"
     ]
    }
   ],
   "source": [
    "for i, node in enumerate(sentence_nodes):\n",
    "    print(node)\n",
    "    print()\n",
    "    if i > 5:\n",
    "        break"
   ]
  },
  {
   "cell_type": "code",
   "execution_count": 90,
   "metadata": {},
   "outputs": [
    {
     "name": "stdout",
     "output_type": "stream",
     "text": [
      "<sentence id=\"1041457:0\">\n",
      "<text>I had my eyes on this place, promising myself I will one day 'give it a try.' </text>\n",
      "</sentence>\n",
      "<sentence OutOfScope=\"TRUE\" id=\"1041457:5\">\n",
      "<text>Anyways, if you're in the neighborhood to eat good food, I wouldn't waste my time trying to find something, rather go across the street to Tamari.</text>\n",
      "</sentence>\n",
      "<sentence id=\"1053543:0\">\n",
      "<text>We ate outside at Haru's Sake bar because Haru's restaurant next door was overflowing.</text>\n",
      "</sentence>\n",
      "<sentence id=\"1053543:1\">\n",
      "<text>What's the difference between the two?</text>\n",
      "</sentence>\n"
     ]
    }
   ],
   "source": [
    "# some sentence only contain text tag, no Opinions tag\n",
    "i = 0\n",
    "for n in sentence_nodes:\n",
    "    if not n.find('Opinions'):\n",
    "        print(n)    \n",
    "        i += 1\n",
    "        if i > 3:\n",
    "            break"
   ]
  },
  {
   "cell_type": "code",
   "execution_count": 105,
   "metadata": {},
   "outputs": [],
   "source": [
    "sentences = []\n",
    "i = 0\n",
    "for n in sentence_nodes:\n",
    "    i += 1\n",
    "    sentence = {}\n",
    "    aspect_term = []\n",
    "    sentence['id'] = i\n",
    "    sentence['text'] = n.find('text').string\n",
    "    if n.find('Opinions'):\n",
    "        for c in n.find('Opinions').contents:\n",
    "            if c.name == 'Opinion':\n",
    "                if c['target'] not in aspect_term:\n",
    "                    aspect_term.append(c['target'])\n",
    "\n",
    "    sentence['aspect'] = aspect_term\n",
    "    sentences.append(sentence)"
   ]
  },
  {
   "cell_type": "code",
   "execution_count": 106,
   "metadata": {},
   "outputs": [
    {
     "data": {
      "text/plain": [
       "[{'aspect': ['place'],\n",
       "  'id': 1,\n",
       "  'text': 'Judging from previous posts this used to be a good place, but not any longer.'},\n",
       " {'aspect': ['staff'],\n",
       "  'id': 2,\n",
       "  'text': 'We, there were four of us, arrived at noon - the place was empty - and the staff acted like we were imposing on them and they were very rude.'},\n",
       " {'aspect': ['NULL'],\n",
       "  'id': 3,\n",
       "  'text': 'They never brought us complimentary noodles, ignored repeated requests for sugar, and threw our dishes on the table.'},\n",
       " {'aspect': ['food', 'portions'],\n",
       "  'id': 4,\n",
       "  'text': 'The food was lousy - too sweet or too salty and the portions tiny.'},\n",
       " {'aspect': ['NULL'],\n",
       "  'id': 5,\n",
       "  'text': 'After all that, they complained to me about the small tip.'}]"
      ]
     },
     "execution_count": 106,
     "metadata": {},
     "output_type": "execute_result"
    }
   ],
   "source": [
    "sentences[:5]"
   ]
  },
  {
   "cell_type": "code",
   "execution_count": 107,
   "metadata": {},
   "outputs": [
    {
     "data": {
      "text/plain": [
       "0"
      ]
     },
     "execution_count": 107,
     "metadata": {},
     "output_type": "execute_result"
    }
   ],
   "source": [
    "len([])"
   ]
  },
  {
   "cell_type": "code",
   "execution_count": 108,
   "metadata": {},
   "outputs": [
    {
     "name": "stdout",
     "output_type": "stream",
     "text": [
      "2000\n",
      "791\n",
      "1209\n"
     ]
    }
   ],
   "source": [
    "# No sentence contain two NULL target (aspect term)\n",
    "aspect_zero = 0\n",
    "aspect_one = 0\n",
    "\n",
    "for s in sentences:\n",
    "    # aspect == [] or aspect == ['NULL']\n",
    "    if len(s['aspect'])==0 or s['aspect'][0] == 'NULL':\n",
    "        aspect_zero += 1\n",
    "    else:\n",
    "        aspect_one += 1\n",
    "        \n",
    "print(len(sentences)) # Total 2000 sentences\n",
    "print(aspect_zero) # xxx sentences have no aspect term\n",
    "print(aspect_one) # xxx sentences have at least 1 aspect term"
   ]
  },
  {
   "cell_type": "code",
   "execution_count": null,
   "metadata": {},
   "outputs": [],
   "source": [
    "# print aspect and text \n",
    "i = 0\n",
    "for s in sentences:\n",
    "    if len(s['aspect']) > 1:\n",
    "        i += 1\n",
    "        print(s['aspect'])\n",
    "        print(s['text'])\n",
    "print(i)"
   ]
  },
  {
   "cell_type": "code",
   "execution_count": 112,
   "metadata": {},
   "outputs": [
    {
     "data": {
      "text/plain": [
       "[{'aspect': ['place'],\n",
       "  'id': 1,\n",
       "  'text': 'Judging from previous posts this used to be a good place, but not any longer.'},\n",
       " {'aspect': ['staff'],\n",
       "  'id': 2,\n",
       "  'text': 'We, there were four of us, arrived at noon - the place was empty - and the staff acted like we were imposing on them and they were very rude.'},\n",
       " {'aspect': ['NULL'],\n",
       "  'id': 3,\n",
       "  'text': 'They never brought us complimentary noodles, ignored repeated requests for sugar, and threw our dishes on the table.'},\n",
       " {'aspect': ['food', 'portions'],\n",
       "  'id': 4,\n",
       "  'text': 'The food was lousy - too sweet or too salty and the portions tiny.'},\n",
       " {'aspect': ['NULL'],\n",
       "  'id': 5,\n",
       "  'text': 'After all that, they complained to me about the small tip.'},\n",
       " {'aspect': ['place'], 'id': 6, 'text': 'Avoid this place!'},\n",
       " {'aspect': ['food'],\n",
       "  'id': 7,\n",
       "  'text': 'I have eaten at Saul, many times, the food is always consistently, outrageously good.'},\n",
       " {'aspect': ['Saul'],\n",
       "  'id': 8,\n",
       "  'text': 'Saul is the best restaurant on Smith Street and in Brooklyn.'},\n",
       " {'aspect': ['foie gras terrine with figs', 'duck confit'],\n",
       "  'id': 9,\n",
       "  'text': 'The duck confit is always amazing and the foie gras terrine with figs was out of this world.'},\n",
       " {'aspect': ['wine list'],\n",
       "  'id': 10,\n",
       "  'text': 'The wine list is interesting and has many good values.'},\n",
       " {'aspect': ['NULL'],\n",
       "  'id': 11,\n",
       "  'text': 'For the price, you cannot eat this well in Manhattan.'},\n",
       " {'aspect': ['restaurant'],\n",
       "  'id': 12,\n",
       "  'text': 'I was very disappointed with this restaurant.'},\n",
       " {'aspect': ['cart attendant'],\n",
       "  'id': 13,\n",
       "  'text': 'Ive asked a cart attendant for a lotus leaf wrapped rice and she replied back rice and just walked away.'},\n",
       " {'aspect': ['NULL'],\n",
       "  'id': 14,\n",
       "  'text': 'I had to ask her three times before she finally came back with the dish Ive requested.'},\n",
       " {'aspect': ['Food'], 'id': 15, 'text': 'Food was okay, nothing great.'},\n",
       " {'aspect': ['Chow fun', 'pork shu mai', 'NULL'],\n",
       "  'id': 16,\n",
       "  'text': 'Chow fun was dry; pork shu mai was more than usually greasy and had to share a table with loud and rude family. '},\n",
       " {'aspect': ['place'],\n",
       "  'id': 17,\n",
       "  'text': 'I/we will never go back to this place again.'},\n",
       " {'aspect': ['Fish'],\n",
       "  'id': 18,\n",
       "  'text': 'Went on a 3 day oyster binge, with Fish bringing up the closing, and I am so glad this was the place it O trip ended, because it was so great!'},\n",
       " {'aspect': ['Service', 'oysters', 'NULL'],\n",
       "  'id': 19,\n",
       "  'text': \"Service was devine, oysters where a sensual as they come, and the price can't be beat!!!\"},\n",
       " {'aspect': ['NULL'], 'id': 20, 'text': \"You can't go wrong here.\"}]"
      ]
     },
     "execution_count": 112,
     "metadata": {},
     "output_type": "execute_result"
    }
   ],
   "source": [
    "sentences[:20]"
   ]
  },
  {
   "cell_type": "markdown",
   "metadata": {},
   "source": [
    "##  raw text to list - sum it up\n",
    "We have total 2000 sentences, and only 1209 sentences have 1 aspect term at least. Sum above to one function."
   ]
  },
  {
   "cell_type": "code",
   "execution_count": 113,
   "metadata": {},
   "outputs": [],
   "source": [
    "def raw2dict(sentence_nodes):\n",
    "    \"\"\"\n",
    "    Input: a soup object, e.g. soup.find_all(\"sentence\")\n",
    "    Output: a list of dictionaries, contains id, text, aspect terms\n",
    "    \"\"\"\n",
    "    sentences = []\n",
    "    i = 0\n",
    "    for n in sentence_nodes:\n",
    "        i += 1\n",
    "        sentence = {}\n",
    "        aspect_term = []\n",
    "        sentence['id'] = i\n",
    "        sentence['text'] = n.find('text').string\n",
    "        if n.find('Opinions'):\n",
    "            for c in n.find('Opinions').contents:\n",
    "                if c.name == 'Opinion':\n",
    "                    if c['target'] not in aspect_term:\n",
    "                        aspect_term.append(c['target'])\n",
    "\n",
    "        sentence['aspect'] = aspect_term\n",
    "        sentences.append(sentence)\n",
    "        \n",
    "    return sentences"
   ]
  },
  {
   "cell_type": "code",
   "execution_count": 114,
   "metadata": {},
   "outputs": [],
   "source": [
    "train_file = Path.cwd().parent.joinpath('raw-data/semeval-2016/train.xml')\n",
    "soup = None\n",
    "with train_file.open(encoding=\"utf-8\") as f:\n",
    "    soup = BeautifulSoup(f.read().strip(), \"lxml-xml\")\n",
    "\n",
    "if soup is None:\n",
    "    raise Exception(\"Can't read xml file\")\n",
    "\n",
    "sentence_nodes = soup.find_all(\"sentence\")\n",
    "sentences = raw2dict(sentence_nodes)"
   ]
  },
  {
   "cell_type": "code",
   "execution_count": 116,
   "metadata": {},
   "outputs": [
    {
     "data": {
      "text/plain": [
       "[{'aspect': ['place'],\n",
       "  'id': 1,\n",
       "  'text': 'Judging from previous posts this used to be a good place, but not any longer.'},\n",
       " {'aspect': ['staff'],\n",
       "  'id': 2,\n",
       "  'text': 'We, there were four of us, arrived at noon - the place was empty - and the staff acted like we were imposing on them and they were very rude.'},\n",
       " {'aspect': ['NULL'],\n",
       "  'id': 3,\n",
       "  'text': 'They never brought us complimentary noodles, ignored repeated requests for sugar, and threw our dishes on the table.'},\n",
       " {'aspect': ['food', 'portions'],\n",
       "  'id': 4,\n",
       "  'text': 'The food was lousy - too sweet or too salty and the portions tiny.'},\n",
       " {'aspect': ['NULL'],\n",
       "  'id': 5,\n",
       "  'text': 'After all that, they complained to me about the small tip.'}]"
      ]
     },
     "execution_count": 116,
     "metadata": {},
     "output_type": "execute_result"
    }
   ],
   "source": [
    "sentences[:5]"
   ]
  },
  {
   "cell_type": "markdown",
   "metadata": {},
   "source": [
    "# list to dataframe\n",
    "\n",
    "the dataframe should have 3 columns, sentence id, word, tag\n"
   ]
  },
  {
   "cell_type": "code",
   "execution_count": 117,
   "metadata": {},
   "outputs": [
    {
     "data": {
      "text/plain": [
       "[{'aspect': ['place'],\n",
       "  'id': 1,\n",
       "  'text': 'Judging from previous posts this used to be a good place, but not any longer.'},\n",
       " {'aspect': ['staff'],\n",
       "  'id': 2,\n",
       "  'text': 'We, there were four of us, arrived at noon - the place was empty - and the staff acted like we were imposing on them and they were very rude.'},\n",
       " {'aspect': ['NULL'],\n",
       "  'id': 3,\n",
       "  'text': 'They never brought us complimentary noodles, ignored repeated requests for sugar, and threw our dishes on the table.'},\n",
       " {'aspect': ['food', 'portions'],\n",
       "  'id': 4,\n",
       "  'text': 'The food was lousy - too sweet or too salty and the portions tiny.'},\n",
       " {'aspect': ['NULL'],\n",
       "  'id': 5,\n",
       "  'text': 'After all that, they complained to me about the small tip.'}]"
      ]
     },
     "execution_count": 117,
     "metadata": {},
     "output_type": "execute_result"
    }
   ],
   "source": [
    "test = sentences[:5]\n",
    "test"
   ]
  },
  {
   "cell_type": "code",
   "execution_count": 166,
   "metadata": {},
   "outputs": [
    {
     "name": "stdout",
     "output_type": "stream",
     "text": [
      "Judging from previous posts this used to be a good place, but not any longer.\n",
      "['judging', 'from', 'previous', 'posts', 'this', 'used', 'to', 'be', 'a', 'good', 'place', ',', 'but', 'not', 'any', 'longer', '.']\n"
     ]
    }
   ],
   "source": [
    "# split sentences to words, and contain the punctuations\n",
    "import re\n",
    "s = sentences[0]['text']\n",
    "print(s)\n",
    "\n",
    "s = re.sub('([.,!?()])', r' \\1 ', s) # match the punctuation characters and surround them by spaces,\n",
    "s = re.sub('\\s{2,}', ' ', s)         # collapse multiple spaces to one space\n",
    "print(s.lower().split())"
   ]
  },
  {
   "cell_type": "markdown",
   "metadata": {},
   "source": [
    "#### a example to assign IOB format "
   ]
  },
  {
   "cell_type": "code",
   "execution_count": 136,
   "metadata": {},
   "outputs": [
    {
     "data": {
      "text/plain": [
       "['a good place', 'posts']"
      ]
     },
     "execution_count": 136,
     "metadata": {},
     "output_type": "execute_result"
    }
   ],
   "source": [
    "s = ['judging', 'from', 'previous', 'posts', 'this', 'used', 'to', 'be', 'a', 'good', 'place', ',', 'but', 'not', 'any', 'longer', '.']\n",
    "aspects = ['a good place', 'Posts']\n",
    "\n",
    "aspects = [x.lower() for x in aspect]\n",
    "aspects"
   ]
  },
  {
   "cell_type": "code",
   "execution_count": 145,
   "metadata": {},
   "outputs": [
    {
     "name": "stdout",
     "output_type": "stream",
     "text": [
      "['O', 'O', 'O', 'O', 'O', 'O', 'O', 'O', 'O', 'O', 'O', 'O', 'O', 'O', 'O', 'O', 'O']\n"
     ]
    }
   ],
   "source": [
    "tags = ['O'] * len(s)\n",
    "print(tags)"
   ]
  },
  {
   "cell_type": "code",
   "execution_count": 156,
   "metadata": {},
   "outputs": [
    {
     "name": "stdout",
     "output_type": "stream",
     "text": [
      "['O', 'O', 'O', 'O', 'O', 'O', 'O', 'O', 'O', 'O', 'O', 'O', 'O', 'O', 'O', 'O', 'O']\n",
      "a\n",
      "8 0\n",
      "good\n",
      "9 8\n",
      "place\n",
      "10 9\n",
      "posts\n",
      "3 0\n",
      "['O', 'O', 'O', 'B', 'O', 'O', 'O', 'O', 'B', 'I', 'I', 'O', 'O', 'O', 'O', 'O', 'O']\n"
     ]
    }
   ],
   "source": [
    "tags = ['O'] * len(s)\n",
    "print(tags)\n",
    "\n",
    "for aspect in aspects:\n",
    "    pre_index = 0\n",
    "    for word in s: \n",
    "        if word in aspect: # 'good' in 'a good place'\n",
    "            print(word)\n",
    "            cur_index = s.index(word) # \n",
    "            print(cur_index, pre_index)\n",
    "            if cur_index - pre_index == 1: # good after a\n",
    "                tags[cur_index] = 'I'\n",
    "#                 print('I')\n",
    "            else:                       # a after no aspect words\n",
    "                tags[cur_index] = 'B'\n",
    "            pre_index = cur_index \n",
    "            \n",
    "print(tags)"
   ]
  },
  {
   "cell_type": "code",
   "execution_count": 174,
   "metadata": {},
   "outputs": [],
   "source": [
    "def tagging_IOB(s, aspects):\n",
    "    \"\"\"Assigning IOB tag to each word in s\n",
    "    Input: \n",
    "        s: sentences, a list of words, e.g. ['judging', 'from', 'previous', 'posts']\n",
    "        aspects: a list of aspect term, e.g. ['a good place', 'Posts']\n",
    "    Output:\n",
    "        tag: a list of tag, e.g. ['O', 'O', 'O', 'B']\n",
    "    \"\"\"\n",
    "    tags = ['O'] * len(s)\n",
    "\n",
    "    for aspect in aspects:\n",
    "        pre_index = 0\n",
    "        for word in s: \n",
    "            if word in aspect: # 'good' in 'a good place'\n",
    "                cur_index = s.index(word) \n",
    "                if cur_index - pre_index == 1: # inside an aspect term\n",
    "                    tags[cur_index] = 'I'\n",
    "                else:                       # beginning of an aspect term\n",
    "                    tags[cur_index] = 'B'\n",
    "                pre_index = cur_index \n",
    "    return tags\n"
   ]
  },
  {
   "cell_type": "markdown",
   "metadata": {},
   "source": [
    "#### a example to assign IOB format ----end------"
   ]
  },
  {
   "cell_type": "code",
   "execution_count": 175,
   "metadata": {},
   "outputs": [],
   "source": [
    "import re\n",
    "\n",
    "def split2words(s_text):\n",
    "    \"\"\"Split string with white and prereserve the punctuation\n",
    "    Input:\n",
    "        s_text: string, a sentence, e.g. Judging from previous posts this used to be a good place, but not any longer.\n",
    "    Output:\n",
    "        words: a list of words, e.g. ['judging', 'from', 'previous', 'posts', 'this', 'used', 'to', 'be', 'a', 'good', 'place', ',', 'but', 'not', 'any', 'longer', '.']\n",
    "    \"\"\"\n",
    "    s_text = re.sub('([.,!?()])', r' \\1 ', s_text) # match the punctuation characters and surround them by spaces,\n",
    "    s_text = re.sub('\\s{2,}', ' ', s_text)         # collapse multiple spaces to one space\n",
    "    words = s_text.lower().split()\n",
    "    return words"
   ]
  },
  {
   "cell_type": "code",
   "execution_count": 178,
   "metadata": {},
   "outputs": [],
   "source": [
    "import re\n",
    "\n",
    "sentences_df = []\n",
    "for s in sentences:\n",
    "    sentence = {}\n",
    "    sentence['Sentence #'] = s['id']\n",
    "    sentence['Word'] = split2words(s['text']) \n",
    "    s_length = len(sentence['Word']) # the length of sentence, used to generate tag\n",
    "    if len(s['aspect'])==0 or s['aspect'][0] == 'NULL':\n",
    "        sentence['Tag'] = ['O'] * s_length\n",
    "    else:\n",
    "        aspect_terms = [x.lower() for x in s['aspect']]  # IOB format if aspect exist\n",
    "        sentence['Tag'] = tagging_IOB(sentence['Word'], aspect_terms)\n",
    "    \n",
    "    sentences_df.append(sentence)\n"
   ]
  },
  {
   "cell_type": "markdown",
   "metadata": {},
   "source": [
    "# list to dataframe - sum it up"
   ]
  },
  {
   "cell_type": "code",
   "execution_count": null,
   "metadata": {},
   "outputs": [],
   "source": [
    "def list2df()"
   ]
  },
  {
   "cell_type": "code",
   "execution_count": null,
   "metadata": {},
   "outputs": [],
   "source": []
  },
  {
   "cell_type": "code",
   "execution_count": 179,
   "metadata": {},
   "outputs": [
    {
     "data": {
      "text/plain": [
       "{'Sentence #': 1,\n",
       " 'Tag': ['O',\n",
       "  'O',\n",
       "  'O',\n",
       "  'O',\n",
       "  'O',\n",
       "  'O',\n",
       "  'O',\n",
       "  'O',\n",
       "  'B',\n",
       "  'O',\n",
       "  'B',\n",
       "  'O',\n",
       "  'O',\n",
       "  'O',\n",
       "  'O',\n",
       "  'O',\n",
       "  'O'],\n",
       " 'Word': ['judging',\n",
       "  'from',\n",
       "  'previous',\n",
       "  'posts',\n",
       "  'this',\n",
       "  'used',\n",
       "  'to',\n",
       "  'be',\n",
       "  'a',\n",
       "  'good',\n",
       "  'place',\n",
       "  ',',\n",
       "  'but',\n",
       "  'not',\n",
       "  'any',\n",
       "  'longer',\n",
       "  '.']}"
      ]
     },
     "execution_count": 179,
     "metadata": {},
     "output_type": "execute_result"
    }
   ],
   "source": [
    "sentences_df[0]"
   ]
  },
  {
   "cell_type": "code",
   "execution_count": 180,
   "metadata": {},
   "outputs": [
    {
     "data": {
      "text/plain": [
       "{'Sentence #': 1990,\n",
       " 'Tag': ['O', 'O', 'O', 'O', 'B', 'O'],\n",
       " 'Word': ['i', 'generally', 'like', 'this', 'place', '.']}"
      ]
     },
     "execution_count": 180,
     "metadata": {},
     "output_type": "execute_result"
    }
   ],
   "source": [
    "sentences_df[1989]"
   ]
  },
  {
   "cell_type": "code",
   "execution_count": 181,
   "metadata": {},
   "outputs": [
    {
     "data": {
      "text/html": [
       "<div>\n",
       "<style scoped>\n",
       "    .dataframe tbody tr th:only-of-type {\n",
       "        vertical-align: middle;\n",
       "    }\n",
       "\n",
       "    .dataframe tbody tr th {\n",
       "        vertical-align: top;\n",
       "    }\n",
       "\n",
       "    .dataframe thead th {\n",
       "        text-align: right;\n",
       "    }\n",
       "</style>\n",
       "<table border=\"1\" class=\"dataframe\">\n",
       "  <thead>\n",
       "    <tr style=\"text-align: right;\">\n",
       "      <th></th>\n",
       "      <th>Sentence #</th>\n",
       "      <th>Tag</th>\n",
       "      <th>Word</th>\n",
       "    </tr>\n",
       "  </thead>\n",
       "  <tbody>\n",
       "    <tr>\n",
       "      <th>0</th>\n",
       "      <td>1</td>\n",
       "      <td>[O, O, O, O, O, O, O, O, B, O, B, O, O, O, O, ...</td>\n",
       "      <td>[judging, from, previous, posts, this, used, t...</td>\n",
       "    </tr>\n",
       "    <tr>\n",
       "      <th>1</th>\n",
       "      <td>2</td>\n",
       "      <td>[O, O, O, O, O, O, O, O, O, O, O, O, O, O, O, ...</td>\n",
       "      <td>[we, ,, there, were, four, of, us, ,, arrived,...</td>\n",
       "    </tr>\n",
       "    <tr>\n",
       "      <th>2</th>\n",
       "      <td>3</td>\n",
       "      <td>[O, O, O, O, O, O, O, O, O, O, O, O, O, O, O, ...</td>\n",
       "      <td>[they, never, brought, us, complimentary, nood...</td>\n",
       "    </tr>\n",
       "    <tr>\n",
       "      <th>3</th>\n",
       "      <td>4</td>\n",
       "      <td>[O, I, O, O, O, O, O, B, O, O, O, O, B, O, O]</td>\n",
       "      <td>[the, food, was, lousy, -, too, sweet, or, too...</td>\n",
       "    </tr>\n",
       "    <tr>\n",
       "      <th>4</th>\n",
       "      <td>5</td>\n",
       "      <td>[O, O, O, O, O, O, O, O, O, O, O, O, O]</td>\n",
       "      <td>[after, all, that, ,, they, complained, to, me...</td>\n",
       "    </tr>\n",
       "    <tr>\n",
       "      <th>5</th>\n",
       "      <td>6</td>\n",
       "      <td>[O, O, B, O]</td>\n",
       "      <td>[avoid, this, place, !]</td>\n",
       "    </tr>\n",
       "    <tr>\n",
       "      <th>6</th>\n",
       "      <td>7</td>\n",
       "      <td>[O, O, O, O, O, O, O, O, O, O, B, O, O, O, O, ...</td>\n",
       "      <td>[i, have, eaten, at, saul, ,, many, times, ,, ...</td>\n",
       "    </tr>\n",
       "    <tr>\n",
       "      <th>7</th>\n",
       "      <td>8</td>\n",
       "      <td>[B, O, O, O, O, O, O, O, O, O, O, O]</td>\n",
       "      <td>[saul, is, the, best, restaurant, on, smith, s...</td>\n",
       "    </tr>\n",
       "    <tr>\n",
       "      <th>8</th>\n",
       "      <td>9</td>\n",
       "      <td>[O, I, I, O, O, O, O, O, B, I, I, I, I, O, O, ...</td>\n",
       "      <td>[the, duck, confit, is, always, amazing, and, ...</td>\n",
       "    </tr>\n",
       "    <tr>\n",
       "      <th>9</th>\n",
       "      <td>10</td>\n",
       "      <td>[O, I, I, I, O, O, O, O, O, O, O]</td>\n",
       "      <td>[the, wine, list, is, interesting, and, has, m...</td>\n",
       "    </tr>\n",
       "    <tr>\n",
       "      <th>10</th>\n",
       "      <td>11</td>\n",
       "      <td>[O, O, O, O, O, O, O, O, O, O, O, O]</td>\n",
       "      <td>[for, the, price, ,, you, cannot, eat, this, w...</td>\n",
       "    </tr>\n",
       "    <tr>\n",
       "      <th>11</th>\n",
       "      <td>12</td>\n",
       "      <td>[O, O, O, O, O, O, B, O]</td>\n",
       "      <td>[i, was, very, disappointed, with, this, resta...</td>\n",
       "    </tr>\n",
       "    <tr>\n",
       "      <th>12</th>\n",
       "      <td>13</td>\n",
       "      <td>[O, O, B, I, I, O, O, O, O, O, O, O, O, O, O, ...</td>\n",
       "      <td>[ive, asked, a, cart, attendant, for, a, lotus...</td>\n",
       "    </tr>\n",
       "    <tr>\n",
       "      <th>13</th>\n",
       "      <td>14</td>\n",
       "      <td>[O, O, O, O, O, O, O, O, O, O, O, O, O, O, O, ...</td>\n",
       "      <td>[i, had, to, ask, her, three, times, before, s...</td>\n",
       "    </tr>\n",
       "    <tr>\n",
       "      <th>14</th>\n",
       "      <td>15</td>\n",
       "      <td>[B, O, O, O, O, O, O]</td>\n",
       "      <td>[food, was, okay, ,, nothing, great, .]</td>\n",
       "    </tr>\n",
       "    <tr>\n",
       "      <th>15</th>\n",
       "      <td>16</td>\n",
       "      <td>[B, I, O, O, B, I, I, O, O, O, O, O, O, O, O, ...</td>\n",
       "      <td>[chow, fun, was, dry;, pork, shu, mai, was, mo...</td>\n",
       "    </tr>\n",
       "    <tr>\n",
       "      <th>16</th>\n",
       "      <td>17</td>\n",
       "      <td>[O, O, O, O, O, O, O, B, O, O]</td>\n",
       "      <td>[i/we, will, never, go, back, to, this, place,...</td>\n",
       "    </tr>\n",
       "    <tr>\n",
       "      <th>17</th>\n",
       "      <td>18</td>\n",
       "      <td>[O, O, O, O, O, O, O, O, O, B, O, O, O, O, O, ...</td>\n",
       "      <td>[went, on, a, 3, day, oyster, binge, ,, with, ...</td>\n",
       "    </tr>\n",
       "    <tr>\n",
       "      <th>18</th>\n",
       "      <td>19</td>\n",
       "      <td>[B, O, O, O, B, O, O, O, O, O, O, O, O, O, O, ...</td>\n",
       "      <td>[service, was, devine, ,, oysters, where, a, s...</td>\n",
       "    </tr>\n",
       "    <tr>\n",
       "      <th>19</th>\n",
       "      <td>20</td>\n",
       "      <td>[O, O, O, O, O, O]</td>\n",
       "      <td>[you, can't, go, wrong, here, .]</td>\n",
       "    </tr>\n",
       "    <tr>\n",
       "      <th>20</th>\n",
       "      <td>21</td>\n",
       "      <td>[O, O, O, O, O, O, O, O, B, O, O, O, B, I, O, ...</td>\n",
       "      <td>[every, time, in, new, york, i, make, it, a, p...</td>\n",
       "    </tr>\n",
       "    <tr>\n",
       "      <th>21</th>\n",
       "      <td>22</td>\n",
       "      <td>[O, O, O, O, O, O, O, O, O, O, O, O, O, O, O, ...</td>\n",
       "      <td>[everything, is, always, cooked, to, perfectio...</td>\n",
       "    </tr>\n",
       "    <tr>\n",
       "      <th>22</th>\n",
       "      <td>23</td>\n",
       "      <td>[B, O, O, B, I, I, O, O, O, O, O, O, O, O, O]</td>\n",
       "      <td>[i, had, the, duck, breast, special, on, my, l...</td>\n",
       "    </tr>\n",
       "    <tr>\n",
       "      <th>23</th>\n",
       "      <td>24</td>\n",
       "      <td>[O, O, O, O, O, O, O, O]</td>\n",
       "      <td>[can't, wait, wait, for, my, next, visit, .]</td>\n",
       "    </tr>\n",
       "    <tr>\n",
       "      <th>24</th>\n",
       "      <td>25</td>\n",
       "      <td>[O, O, O, O, O, O, O, O, O, O, O, O, O, O, O, ...</td>\n",
       "      <td>[i, had, my, eyes, on, this, place, ,, promisi...</td>\n",
       "    </tr>\n",
       "    <tr>\n",
       "      <th>25</th>\n",
       "      <td>26</td>\n",
       "      <td>[O, O, O, O, O, O, O, O, O, O, O, O, O, O]</td>\n",
       "      <td>[and, i, hate, to, say, this, but, i, doubt, i...</td>\n",
       "    </tr>\n",
       "    <tr>\n",
       "      <th>26</th>\n",
       "      <td>27</td>\n",
       "      <td>[O, I, O, O, O, O, O, O, O, B, I, I, O, B, O, ...</td>\n",
       "      <td>[the, food, is, very, average, ., ., ., the, t...</td>\n",
       "    </tr>\n",
       "    <tr>\n",
       "      <th>27</th>\n",
       "      <td>28</td>\n",
       "      <td>[O, O, O, B, O, O, O, O, B, I, I, I, I, I, O]</td>\n",
       "      <td>[the, only, thing, i, moderately, enjoyed, was...</td>\n",
       "    </tr>\n",
       "    <tr>\n",
       "      <th>28</th>\n",
       "      <td>29</td>\n",
       "      <td>[O, O, O, O, B, I, O, O, O, O, O, O, O, O, O, ...</td>\n",
       "      <td>[i, had, never, had, edamame, pureed, before, ...</td>\n",
       "    </tr>\n",
       "    <tr>\n",
       "      <th>29</th>\n",
       "      <td>30</td>\n",
       "      <td>[O, O, O, O, O, O, O, O, O, O, O, O, O, O, O, ...</td>\n",
       "      <td>[anyways, ,, if, you're, in, the, neighborhood...</td>\n",
       "    </tr>\n",
       "    <tr>\n",
       "      <th>...</th>\n",
       "      <td>...</td>\n",
       "      <td>...</td>\n",
       "      <td>...</td>\n",
       "    </tr>\n",
       "    <tr>\n",
       "      <th>1970</th>\n",
       "      <td>1971</td>\n",
       "      <td>[O, O, O, O, O, O, O, O, O, O]</td>\n",
       "      <td>[i, went, there, after, hearing, how, great, i...</td>\n",
       "    </tr>\n",
       "    <tr>\n",
       "      <th>1971</th>\n",
       "      <td>1972</td>\n",
       "      <td>[O, O]</td>\n",
       "      <td>[wow, .]</td>\n",
       "    </tr>\n",
       "    <tr>\n",
       "      <th>1972</th>\n",
       "      <td>1973</td>\n",
       "      <td>[O, I, O, O, O, O, B, O, O, O, O, O]</td>\n",
       "      <td>[the, bread, was, stale, ,, the, salad, was, o...</td>\n",
       "    </tr>\n",
       "    <tr>\n",
       "      <th>1973</th>\n",
       "      <td>1974</td>\n",
       "      <td>[O, I, O, O, O, O, O, O, O, O, O, O, O, O]</td>\n",
       "      <td>[the, pasta, was, well, cooked, ,, didn't, hav...</td>\n",
       "    </tr>\n",
       "    <tr>\n",
       "      <th>1974</th>\n",
       "      <td>1975</td>\n",
       "      <td>[O, O, O, O, O, O, O, O, O, O, O, O, O, O, O, O]</td>\n",
       "      <td>[i, though, it, was, expensive, and, i, prefer...</td>\n",
       "    </tr>\n",
       "    <tr>\n",
       "      <th>1975</th>\n",
       "      <td>1976</td>\n",
       "      <td>[O, O, O, O, O]</td>\n",
       "      <td>[so, rude, !, !, !]</td>\n",
       "    </tr>\n",
       "    <tr>\n",
       "      <th>1976</th>\n",
       "      <td>1977</td>\n",
       "      <td>[O, O, O, O, O]</td>\n",
       "      <td>[i, went, with, jwils, .]</td>\n",
       "    </tr>\n",
       "    <tr>\n",
       "      <th>1977</th>\n",
       "      <td>1978</td>\n",
       "      <td>[O, O, O, O, O]</td>\n",
       "      <td>[her, review, is, above, .]</td>\n",
       "    </tr>\n",
       "    <tr>\n",
       "      <th>1978</th>\n",
       "      <td>1979</td>\n",
       "      <td>[O, O, O, O, O, O, O, O, O, O, O, O, O]</td>\n",
       "      <td>[i, was, one, of, the, people, that, went, for...</td>\n",
       "    </tr>\n",
       "    <tr>\n",
       "      <th>1979</th>\n",
       "      <td>1980</td>\n",
       "      <td>[O, O, O, O, O, O, O, O, O, O, O]</td>\n",
       "      <td>[my, friend, is, 100%, right, in, the, experie...</td>\n",
       "    </tr>\n",
       "    <tr>\n",
       "      <th>1980</th>\n",
       "      <td>1981</td>\n",
       "      <td>[O, I, O, O, O, O, O, O, O, O, O, O, O, O, O, ...</td>\n",
       "      <td>[the, hostess, was, rude, and, i, got, a, dist...</td>\n",
       "    </tr>\n",
       "    <tr>\n",
       "      <th>1981</th>\n",
       "      <td>1982</td>\n",
       "      <td>[O, O, O, O, O, O, O, O, O, O, O, O, O, O, O, ...</td>\n",
       "      <td>[the, only, thing, that, my, friend, left, out...</td>\n",
       "    </tr>\n",
       "    <tr>\n",
       "      <th>1982</th>\n",
       "      <td>1983</td>\n",
       "      <td>[B, O, O, B, O, O, O, O, B, O, O, O, O, O, O, ...</td>\n",
       "      <td>[i, asked, for, a, menu, and, the, same, waitr...</td>\n",
       "    </tr>\n",
       "    <tr>\n",
       "      <th>1983</th>\n",
       "      <td>1984</td>\n",
       "      <td>[B, O, O, O, O, O, O, O, O, O, O, B, O, O, O, ...</td>\n",
       "      <td>[i, was, shocked, that, my, friends, wanted, t...</td>\n",
       "    </tr>\n",
       "    <tr>\n",
       "      <th>1984</th>\n",
       "      <td>1985</td>\n",
       "      <td>[O, O]</td>\n",
       "      <td>[what, ?]</td>\n",
       "    </tr>\n",
       "    <tr>\n",
       "      <th>1985</th>\n",
       "      <td>1986</td>\n",
       "      <td>[O, O, O, O, O, O, O, O, O, O, O, O, O, O, O, ...</td>\n",
       "      <td>[the, three, of, us, standing, in, front, of, ...</td>\n",
       "    </tr>\n",
       "    <tr>\n",
       "      <th>1986</th>\n",
       "      <td>1987</td>\n",
       "      <td>[O, O, O, O, O, O, O, O, O, O, O, O, O, O, O, ...</td>\n",
       "      <td>[we, didn't, look, like, the, other, patrons, ...</td>\n",
       "    </tr>\n",
       "    <tr>\n",
       "      <th>1987</th>\n",
       "      <td>1988</td>\n",
       "      <td>[O, O, O, O, O, O, O, O, B, O, O, B, I, O]</td>\n",
       "      <td>[shame, on, this, place, for, the, horrible, r...</td>\n",
       "    </tr>\n",
       "    <tr>\n",
       "      <th>1988</th>\n",
       "      <td>1989</td>\n",
       "      <td>[O, I]</td>\n",
       "      <td>[bad, staff]</td>\n",
       "    </tr>\n",
       "    <tr>\n",
       "      <th>1989</th>\n",
       "      <td>1990</td>\n",
       "      <td>[O, O, O, O, B, O]</td>\n",
       "      <td>[i, generally, like, this, place, .]</td>\n",
       "    </tr>\n",
       "    <tr>\n",
       "      <th>1990</th>\n",
       "      <td>1991</td>\n",
       "      <td>[O, I, O, O, O]</td>\n",
       "      <td>[the, food, is, good, .]</td>\n",
       "    </tr>\n",
       "    <tr>\n",
       "      <th>1991</th>\n",
       "      <td>1992</td>\n",
       "      <td>[O, O, O, O, B, O, O, O]</td>\n",
       "      <td>[the, design, of, the, space, is, good, .]</td>\n",
       "    </tr>\n",
       "    <tr>\n",
       "      <th>1992</th>\n",
       "      <td>1993</td>\n",
       "      <td>[O, O, B, O, O, O]</td>\n",
       "      <td>[but, the, service, is, horrid, !]</td>\n",
       "    </tr>\n",
       "    <tr>\n",
       "      <th>1993</th>\n",
       "      <td>1994</td>\n",
       "      <td>[B, O, O, O, O, O, O, O, O, O, O, O, O, B, I, ...</td>\n",
       "      <td>[i, was, there, for, brunch, recently, ,, and,...</td>\n",
       "    </tr>\n",
       "    <tr>\n",
       "      <th>1994</th>\n",
       "      <td>1995</td>\n",
       "      <td>[O, I, O, O, O, O, O, O, O, O, O, B, O, O, O, ...</td>\n",
       "      <td>[the, waiter, delivered, our, food, while, hol...</td>\n",
       "    </tr>\n",
       "    <tr>\n",
       "      <th>1995</th>\n",
       "      <td>1996</td>\n",
       "      <td>[O, O, O, O, O, O, O, O, O, O, O, O, O, O, O, ...</td>\n",
       "      <td>[i, can't, believe, that, it, was, ,, but, ple...</td>\n",
       "    </tr>\n",
       "    <tr>\n",
       "      <th>1996</th>\n",
       "      <td>1997</td>\n",
       "      <td>[O, I, O, O, O, O, O, O, O, O, O, O, O, O, O, ...</td>\n",
       "      <td>[the, waitress, came, to, check, in, on, us, e...</td>\n",
       "    </tr>\n",
       "    <tr>\n",
       "      <th>1997</th>\n",
       "      <td>1998</td>\n",
       "      <td>[O, O, O, O, O, O, O, O, O, O, O, O, O, O, O, ...</td>\n",
       "      <td>[i, couldn't, ignore, the, fact, that, she, re...</td>\n",
       "    </tr>\n",
       "    <tr>\n",
       "      <th>1998</th>\n",
       "      <td>1999</td>\n",
       "      <td>[O, O, O, O, O, O, O, O, O, O, O, O, O, O, O, ...</td>\n",
       "      <td>[she, then, put, the, check, down, without, as...</td>\n",
       "    </tr>\n",
       "    <tr>\n",
       "      <th>1999</th>\n",
       "      <td>2000</td>\n",
       "      <td>[O, O, O, O, O, O, B, O, O, O, O, O, O, O, O, ...</td>\n",
       "      <td>[i, wish, i, could, like, this, place, more, ,...</td>\n",
       "    </tr>\n",
       "  </tbody>\n",
       "</table>\n",
       "<p>2000 rows × 3 columns</p>\n",
       "</div>"
      ],
      "text/plain": [
       "      Sentence #                                                Tag  \\\n",
       "0              1  [O, O, O, O, O, O, O, O, B, O, B, O, O, O, O, ...   \n",
       "1              2  [O, O, O, O, O, O, O, O, O, O, O, O, O, O, O, ...   \n",
       "2              3  [O, O, O, O, O, O, O, O, O, O, O, O, O, O, O, ...   \n",
       "3              4      [O, I, O, O, O, O, O, B, O, O, O, O, B, O, O]   \n",
       "4              5            [O, O, O, O, O, O, O, O, O, O, O, O, O]   \n",
       "5              6                                       [O, O, B, O]   \n",
       "6              7  [O, O, O, O, O, O, O, O, O, O, B, O, O, O, O, ...   \n",
       "7              8               [B, O, O, O, O, O, O, O, O, O, O, O]   \n",
       "8              9  [O, I, I, O, O, O, O, O, B, I, I, I, I, O, O, ...   \n",
       "9             10                  [O, I, I, I, O, O, O, O, O, O, O]   \n",
       "10            11               [O, O, O, O, O, O, O, O, O, O, O, O]   \n",
       "11            12                           [O, O, O, O, O, O, B, O]   \n",
       "12            13  [O, O, B, I, I, O, O, O, O, O, O, O, O, O, O, ...   \n",
       "13            14  [O, O, O, O, O, O, O, O, O, O, O, O, O, O, O, ...   \n",
       "14            15                              [B, O, O, O, O, O, O]   \n",
       "15            16  [B, I, O, O, B, I, I, O, O, O, O, O, O, O, O, ...   \n",
       "16            17                     [O, O, O, O, O, O, O, B, O, O]   \n",
       "17            18  [O, O, O, O, O, O, O, O, O, B, O, O, O, O, O, ...   \n",
       "18            19  [B, O, O, O, B, O, O, O, O, O, O, O, O, O, O, ...   \n",
       "19            20                                 [O, O, O, O, O, O]   \n",
       "20            21  [O, O, O, O, O, O, O, O, B, O, O, O, B, I, O, ...   \n",
       "21            22  [O, O, O, O, O, O, O, O, O, O, O, O, O, O, O, ...   \n",
       "22            23      [B, O, O, B, I, I, O, O, O, O, O, O, O, O, O]   \n",
       "23            24                           [O, O, O, O, O, O, O, O]   \n",
       "24            25  [O, O, O, O, O, O, O, O, O, O, O, O, O, O, O, ...   \n",
       "25            26         [O, O, O, O, O, O, O, O, O, O, O, O, O, O]   \n",
       "26            27  [O, I, O, O, O, O, O, O, O, B, I, I, O, B, O, ...   \n",
       "27            28      [O, O, O, B, O, O, O, O, B, I, I, I, I, I, O]   \n",
       "28            29  [O, O, O, O, B, I, O, O, O, O, O, O, O, O, O, ...   \n",
       "29            30  [O, O, O, O, O, O, O, O, O, O, O, O, O, O, O, ...   \n",
       "...          ...                                                ...   \n",
       "1970        1971                     [O, O, O, O, O, O, O, O, O, O]   \n",
       "1971        1972                                             [O, O]   \n",
       "1972        1973               [O, I, O, O, O, O, B, O, O, O, O, O]   \n",
       "1973        1974         [O, I, O, O, O, O, O, O, O, O, O, O, O, O]   \n",
       "1974        1975   [O, O, O, O, O, O, O, O, O, O, O, O, O, O, O, O]   \n",
       "1975        1976                                    [O, O, O, O, O]   \n",
       "1976        1977                                    [O, O, O, O, O]   \n",
       "1977        1978                                    [O, O, O, O, O]   \n",
       "1978        1979            [O, O, O, O, O, O, O, O, O, O, O, O, O]   \n",
       "1979        1980                  [O, O, O, O, O, O, O, O, O, O, O]   \n",
       "1980        1981  [O, I, O, O, O, O, O, O, O, O, O, O, O, O, O, ...   \n",
       "1981        1982  [O, O, O, O, O, O, O, O, O, O, O, O, O, O, O, ...   \n",
       "1982        1983  [B, O, O, B, O, O, O, O, B, O, O, O, O, O, O, ...   \n",
       "1983        1984  [B, O, O, O, O, O, O, O, O, O, O, B, O, O, O, ...   \n",
       "1984        1985                                             [O, O]   \n",
       "1985        1986  [O, O, O, O, O, O, O, O, O, O, O, O, O, O, O, ...   \n",
       "1986        1987  [O, O, O, O, O, O, O, O, O, O, O, O, O, O, O, ...   \n",
       "1987        1988         [O, O, O, O, O, O, O, O, B, O, O, B, I, O]   \n",
       "1988        1989                                             [O, I]   \n",
       "1989        1990                                 [O, O, O, O, B, O]   \n",
       "1990        1991                                    [O, I, O, O, O]   \n",
       "1991        1992                           [O, O, O, O, B, O, O, O]   \n",
       "1992        1993                                 [O, O, B, O, O, O]   \n",
       "1993        1994  [B, O, O, O, O, O, O, O, O, O, O, O, O, B, I, ...   \n",
       "1994        1995  [O, I, O, O, O, O, O, O, O, O, O, B, O, O, O, ...   \n",
       "1995        1996  [O, O, O, O, O, O, O, O, O, O, O, O, O, O, O, ...   \n",
       "1996        1997  [O, I, O, O, O, O, O, O, O, O, O, O, O, O, O, ...   \n",
       "1997        1998  [O, O, O, O, O, O, O, O, O, O, O, O, O, O, O, ...   \n",
       "1998        1999  [O, O, O, O, O, O, O, O, O, O, O, O, O, O, O, ...   \n",
       "1999        2000  [O, O, O, O, O, O, B, O, O, O, O, O, O, O, O, ...   \n",
       "\n",
       "                                                   Word  \n",
       "0     [judging, from, previous, posts, this, used, t...  \n",
       "1     [we, ,, there, were, four, of, us, ,, arrived,...  \n",
       "2     [they, never, brought, us, complimentary, nood...  \n",
       "3     [the, food, was, lousy, -, too, sweet, or, too...  \n",
       "4     [after, all, that, ,, they, complained, to, me...  \n",
       "5                               [avoid, this, place, !]  \n",
       "6     [i, have, eaten, at, saul, ,, many, times, ,, ...  \n",
       "7     [saul, is, the, best, restaurant, on, smith, s...  \n",
       "8     [the, duck, confit, is, always, amazing, and, ...  \n",
       "9     [the, wine, list, is, interesting, and, has, m...  \n",
       "10    [for, the, price, ,, you, cannot, eat, this, w...  \n",
       "11    [i, was, very, disappointed, with, this, resta...  \n",
       "12    [ive, asked, a, cart, attendant, for, a, lotus...  \n",
       "13    [i, had, to, ask, her, three, times, before, s...  \n",
       "14              [food, was, okay, ,, nothing, great, .]  \n",
       "15    [chow, fun, was, dry;, pork, shu, mai, was, mo...  \n",
       "16    [i/we, will, never, go, back, to, this, place,...  \n",
       "17    [went, on, a, 3, day, oyster, binge, ,, with, ...  \n",
       "18    [service, was, devine, ,, oysters, where, a, s...  \n",
       "19                     [you, can't, go, wrong, here, .]  \n",
       "20    [every, time, in, new, york, i, make, it, a, p...  \n",
       "21    [everything, is, always, cooked, to, perfectio...  \n",
       "22    [i, had, the, duck, breast, special, on, my, l...  \n",
       "23         [can't, wait, wait, for, my, next, visit, .]  \n",
       "24    [i, had, my, eyes, on, this, place, ,, promisi...  \n",
       "25    [and, i, hate, to, say, this, but, i, doubt, i...  \n",
       "26    [the, food, is, very, average, ., ., ., the, t...  \n",
       "27    [the, only, thing, i, moderately, enjoyed, was...  \n",
       "28    [i, had, never, had, edamame, pureed, before, ...  \n",
       "29    [anyways, ,, if, you're, in, the, neighborhood...  \n",
       "...                                                 ...  \n",
       "1970  [i, went, there, after, hearing, how, great, i...  \n",
       "1971                                           [wow, .]  \n",
       "1972  [the, bread, was, stale, ,, the, salad, was, o...  \n",
       "1973  [the, pasta, was, well, cooked, ,, didn't, hav...  \n",
       "1974  [i, though, it, was, expensive, and, i, prefer...  \n",
       "1975                                [so, rude, !, !, !]  \n",
       "1976                          [i, went, with, jwils, .]  \n",
       "1977                        [her, review, is, above, .]  \n",
       "1978  [i, was, one, of, the, people, that, went, for...  \n",
       "1979  [my, friend, is, 100%, right, in, the, experie...  \n",
       "1980  [the, hostess, was, rude, and, i, got, a, dist...  \n",
       "1981  [the, only, thing, that, my, friend, left, out...  \n",
       "1982  [i, asked, for, a, menu, and, the, same, waitr...  \n",
       "1983  [i, was, shocked, that, my, friends, wanted, t...  \n",
       "1984                                          [what, ?]  \n",
       "1985  [the, three, of, us, standing, in, front, of, ...  \n",
       "1986  [we, didn't, look, like, the, other, patrons, ...  \n",
       "1987  [shame, on, this, place, for, the, horrible, r...  \n",
       "1988                                       [bad, staff]  \n",
       "1989               [i, generally, like, this, place, .]  \n",
       "1990                           [the, food, is, good, .]  \n",
       "1991         [the, design, of, the, space, is, good, .]  \n",
       "1992                 [but, the, service, is, horrid, !]  \n",
       "1993  [i, was, there, for, brunch, recently, ,, and,...  \n",
       "1994  [the, waiter, delivered, our, food, while, hol...  \n",
       "1995  [i, can't, believe, that, it, was, ,, but, ple...  \n",
       "1996  [the, waitress, came, to, check, in, on, us, e...  \n",
       "1997  [i, couldn't, ignore, the, fact, that, she, re...  \n",
       "1998  [she, then, put, the, check, down, without, as...  \n",
       "1999  [i, wish, i, could, like, this, place, more, ,...  \n",
       "\n",
       "[2000 rows x 3 columns]"
      ]
     },
     "execution_count": 181,
     "metadata": {},
     "output_type": "execute_result"
    }
   ],
   "source": [
    "pd.DataFrame(sentences_df)"
   ]
  },
  {
   "cell_type": "code",
   "execution_count": null,
   "metadata": {},
   "outputs": [],
   "source": []
  }
 ],
 "metadata": {
  "kernelspec": {
   "display_name": "Python [conda env:py36]",
   "language": "python",
   "name": "conda-env-py36-py"
  },
  "language_info": {
   "codemirror_mode": {
    "name": "ipython",
    "version": 3
   },
   "file_extension": ".py",
   "mimetype": "text/x-python",
   "name": "python",
   "nbconvert_exporter": "python",
   "pygments_lexer": "ipython3",
   "version": "3.6.4"
  }
 },
 "nbformat": 4,
 "nbformat_minor": 2
}
