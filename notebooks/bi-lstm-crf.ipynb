{
 "cells": [
  {
   "cell_type": "code",
   "execution_count": 5,
   "metadata": {},
   "outputs": [],
   "source": [
    "import pandas as pd\n",
    "import numpy as np\n",
    "from keras.preprocessing.sequence import pad_sequences\n",
    "from keras.utils import to_categorical\n",
    "from sklearn.model_selection import train_test_split\n",
    "from keras.models import Model, Input\n",
    "from keras.layers import LSTM, Embedding, Dense, TimeDistributed, Dropout, Bidirectional\n",
    "from keras_contrib.layers import CRF\n",
    "from pathlib import Path"
   ]
  },
  {
   "cell_type": "code",
   "execution_count": 22,
   "metadata": {},
   "outputs": [
    {
     "name": "stdout",
     "output_type": "stream",
     "text": [
      "/Users/smap10/Project/aspect-extraction/data/semeval-2016/train.csv\n",
      "/Users/smap10/Project/aspect-extraction/data/semeval-2016/test.csv\n"
     ]
    }
   ],
   "source": [
    "train_path = Path.cwd().parent.joinpath('data/semeval-2016/train.csv')\n",
    "test_path = Path.cwd().parent.joinpath('data/semeval-2016/test.csv')\n",
    "print(train_path)\n",
    "print(test_path)"
   ]
  },
  {
   "cell_type": "code",
   "execution_count": 23,
   "metadata": {},
   "outputs": [],
   "source": [
    "# Read data\n",
    "data_train = pd.read_csv(train_path)\n",
    "data_test = pd.read_csv(test_path)"
   ]
  },
  {
   "cell_type": "code",
   "execution_count": 24,
   "metadata": {},
   "outputs": [
    {
     "data": {
      "text/html": [
       "<div>\n",
       "<style scoped>\n",
       "    .dataframe tbody tr th:only-of-type {\n",
       "        vertical-align: middle;\n",
       "    }\n",
       "\n",
       "    .dataframe tbody tr th {\n",
       "        vertical-align: top;\n",
       "    }\n",
       "\n",
       "    .dataframe thead th {\n",
       "        text-align: right;\n",
       "    }\n",
       "</style>\n",
       "<table border=\"1\" class=\"dataframe\">\n",
       "  <thead>\n",
       "    <tr style=\"text-align: right;\">\n",
       "      <th></th>\n",
       "      <th>Sentence #</th>\n",
       "      <th>Tag</th>\n",
       "      <th>Word</th>\n",
       "    </tr>\n",
       "  </thead>\n",
       "  <tbody>\n",
       "    <tr>\n",
       "      <th>28641</th>\n",
       "      <td>2000</td>\n",
       "      <td>O</td>\n",
       "      <td>would</td>\n",
       "    </tr>\n",
       "    <tr>\n",
       "      <th>28642</th>\n",
       "      <td>2000</td>\n",
       "      <td>O</td>\n",
       "      <td>retrain</td>\n",
       "    </tr>\n",
       "    <tr>\n",
       "      <th>28643</th>\n",
       "      <td>2000</td>\n",
       "      <td>O</td>\n",
       "      <td>the</td>\n",
       "    </tr>\n",
       "    <tr>\n",
       "      <th>28644</th>\n",
       "      <td>2000</td>\n",
       "      <td>B</td>\n",
       "      <td>staff</td>\n",
       "    </tr>\n",
       "    <tr>\n",
       "      <th>28645</th>\n",
       "      <td>2000</td>\n",
       "      <td>O</td>\n",
       "      <td>.</td>\n",
       "    </tr>\n",
       "  </tbody>\n",
       "</table>\n",
       "</div>"
      ],
      "text/plain": [
       "       Sentence # Tag     Word\n",
       "28641        2000   O    would\n",
       "28642        2000   O  retrain\n",
       "28643        2000   O      the\n",
       "28644        2000   B    staff\n",
       "28645        2000   O        ."
      ]
     },
     "execution_count": 24,
     "metadata": {},
     "output_type": "execute_result"
    }
   ],
   "source": [
    "data_train.tail()"
   ]
  },
  {
   "cell_type": "code",
   "execution_count": 25,
   "metadata": {},
   "outputs": [
    {
     "data": {
      "text/html": [
       "<div>\n",
       "<style scoped>\n",
       "    .dataframe tbody tr th:only-of-type {\n",
       "        vertical-align: middle;\n",
       "    }\n",
       "\n",
       "    .dataframe tbody tr th {\n",
       "        vertical-align: top;\n",
       "    }\n",
       "\n",
       "    .dataframe thead th {\n",
       "        text-align: right;\n",
       "    }\n",
       "</style>\n",
       "<table border=\"1\" class=\"dataframe\">\n",
       "  <thead>\n",
       "    <tr style=\"text-align: right;\">\n",
       "      <th></th>\n",
       "      <th>Sentence #</th>\n",
       "      <th>Tag</th>\n",
       "      <th>Word</th>\n",
       "    </tr>\n",
       "  </thead>\n",
       "  <tbody>\n",
       "    <tr>\n",
       "      <th>9864</th>\n",
       "      <td>676</td>\n",
       "      <td>O</td>\n",
       "      <td>was</td>\n",
       "    </tr>\n",
       "    <tr>\n",
       "      <th>9865</th>\n",
       "      <td>676</td>\n",
       "      <td>O</td>\n",
       "      <td>good</td>\n",
       "    </tr>\n",
       "    <tr>\n",
       "      <th>9866</th>\n",
       "      <td>676</td>\n",
       "      <td>O</td>\n",
       "      <td>,</td>\n",
       "    </tr>\n",
       "    <tr>\n",
       "      <th>9867</th>\n",
       "      <td>676</td>\n",
       "      <td>O</td>\n",
       "      <td>too</td>\n",
       "    </tr>\n",
       "    <tr>\n",
       "      <th>9868</th>\n",
       "      <td>676</td>\n",
       "      <td>O</td>\n",
       "      <td>.</td>\n",
       "    </tr>\n",
       "  </tbody>\n",
       "</table>\n",
       "</div>"
      ],
      "text/plain": [
       "      Sentence # Tag  Word\n",
       "9864         676   O   was\n",
       "9865         676   O  good\n",
       "9866         676   O     ,\n",
       "9867         676   O   too\n",
       "9868         676   O     ."
      ]
     },
     "execution_count": 25,
     "metadata": {},
     "output_type": "execute_result"
    }
   ],
   "source": [
    "data_test.tail()"
   ]
  },
  {
   "cell_type": "code",
   "execution_count": 127,
   "metadata": {},
   "outputs": [],
   "source": [
    "data = data_train\n",
    "\n",
    "# Save all words as a list\n",
    "words = list(set(data['Word'].values))\n",
    "n_words = len(words)\n",
    "\n",
    "tags = list(set(data[\"Tag\"].values))\n",
    "n_tags = len(tags)\n",
    "\n",
    "max_len = 75\n",
    "word2idx = {w: i + 1 for i, w in enumerate(words)}\n",
    "n_words = len(word2idx)\n",
    "# word2idx['<unk>'] = len(word2idx) + 1\n",
    "tag2idx = {t: i + 1 for i, t in enumerate(tags)}\n",
    "tag2idx['<pad>'] = 0\n",
    "n_tags = len(tag2idx) # Due to <pad>, here total tag number is from 17 to 18\n",
    "\n",
    "\n",
    "# Sentence class\n",
    "class SentenceGetter(object):\n",
    "\n",
    "    def __init__(self, data):\n",
    "        self.n_sent = 1\n",
    "        self.data = data\n",
    "        self.empty = False\n",
    "        agg_func = lambda s: [(w, t) for w, t in zip(s[\"Word\"].values.tolist(),\n",
    "#                                                            s[\"POS\"].values.tolist(),\n",
    "                                                           s[\"Tag\"].values.tolist())]\n",
    "        self.grouped = self.data.groupby(\"Sentence #\").apply(agg_func)\n",
    "        self.sentences = [s for s in self.grouped]\n",
    "\n",
    "    def get_next(self):\n",
    "        try:\n",
    "            s = self.grouped[\"Sentence: {}\".format(self.n_sent)]\n",
    "            self.n_sent += 1\n",
    "            return s\n",
    "        except:\n",
    "            return None\n",
    "\n",
    "getter = SentenceGetter(data)\n",
    "sentences = getter.sentences # get all sentences\n",
    "\n",
    "max_len = 75\n",
    "word2idx = {w: i + 1 for i, w in enumerate(words)}\n",
    "n_words = len(word2idx)\n",
    "# word2idx['<unk>'] = len(word2idx) + 1\n",
    "tag2idx = {t: i + 1 for i, t in enumerate(tags)}\n",
    "tag2idx['<pad>'] = 0\n",
    "n_tags = len(tag2idx) # Due to <pad>, here total tag number is from 17 to 18\n",
    "\n",
    "# Word2inx & Padding for X\n",
    "X = [[word2idx[w[0]] for w in s] for s in sentences]\n",
    "X_train = pad_sequences(maxlen=max_len, sequences=X, padding=\"post\", value=0)\n",
    "\n",
    "# Word2inx & Padding for y\n",
    "y = [[tag2idx[w[1]] for w in s] for s in sentences]\n",
    "y = pad_sequences(maxlen=max_len, sequences=y, padding=\"post\", value=0)\n",
    "\n",
    "# Get one-hot labels\n",
    "y_train = [to_categorical(i, num_classes=n_tags) for i in y]"
   ]
  },
  {
   "cell_type": "code",
   "execution_count": 129,
   "metadata": {},
   "outputs": [
    {
     "name": "stdout",
     "output_type": "stream",
     "text": [
      "2000\n",
      "2000\n"
     ]
    }
   ],
   "source": [
    "print(len(X_train))\n",
    "print(len(y_train))"
   ]
  },
  {
   "cell_type": "code",
   "execution_count": 130,
   "metadata": {},
   "outputs": [
    {
     "name": "stdout",
     "output_type": "stream",
     "text": [
      "_________________________________________________________________\n",
      "Layer (type)                 Output Shape              Param #   \n",
      "=================================================================\n",
      "input_10 (InputLayer)        (None, 75)                0         \n",
      "_________________________________________________________________\n",
      "embedding_10 (Embedding)     (None, 75, 20)            72000     \n",
      "_________________________________________________________________\n",
      "bidirectional_10 (Bidirectio (None, 75, 100)           28400     \n",
      "_________________________________________________________________\n",
      "time_distributed_10 (TimeDis (None, 75, 50)            5050      \n",
      "_________________________________________________________________\n",
      "crf_10 (CRF)                 (None, 75, 4)             228       \n",
      "=================================================================\n",
      "Total params: 105,678\n",
      "Trainable params: 105,678\n",
      "Non-trainable params: 0\n",
      "_________________________________________________________________\n"
     ]
    }
   ],
   "source": [
    "#==============Bi-LSTM CRF=============\n",
    "input = Input(shape=(max_len,))\n",
    "model = Embedding(input_dim=n_words + 1, output_dim=20,\n",
    "                  input_length=max_len, mask_zero=True)(input)  # 20-dim embedding\n",
    "model = Bidirectional(LSTM(units=50, return_sequences=True,\n",
    "                           recurrent_dropout=0.1))(model)  # variational biLSTM\n",
    "model = TimeDistributed(Dense(50, activation=\"tanh\"))(model)  # a dense layer as suggested by neuralNer\n",
    "crf = CRF(n_tags)  # CRF layer\n",
    "out = crf(model)  # output\n",
    "\n",
    "model = Model(input, out)\n",
    "model.compile(optimizer=\"rmsprop\", loss=crf.loss_function, metrics=[crf.accuracy])\n",
    "model.summary()"
   ]
  },
  {
   "cell_type": "code",
   "execution_count": 132,
   "metadata": {},
   "outputs": [
    {
     "name": "stdout",
     "output_type": "stream",
     "text": [
      "Train on 1800 samples, validate on 200 samples\n",
      "Epoch 1/8\n",
      "1800/1800 [==============================] - 10s 6ms/step - loss: 10.2801 - acc: 0.8099 - val_loss: 10.1782 - val_acc: 0.9190\n",
      "Epoch 2/8\n",
      "1800/1800 [==============================] - 6s 3ms/step - loss: 10.0469 - acc: 0.8953 - val_loss: 10.0821 - val_acc: 0.9180\n",
      "Epoch 3/8\n",
      "1800/1800 [==============================] - 6s 3ms/step - loss: 9.9476 - acc: 0.9063 - val_loss: 10.0452 - val_acc: 0.9194\n",
      "Epoch 4/8\n",
      "1800/1800 [==============================] - 7s 4ms/step - loss: 9.9079 - acc: 0.9172 - val_loss: 10.0282 - val_acc: 0.9246\n",
      "Epoch 5/8\n",
      "1800/1800 [==============================] - 7s 4ms/step - loss: 9.8839 - acc: 0.9253 - val_loss: 10.0313 - val_acc: 0.9255\n",
      "Epoch 6/8\n",
      "1800/1800 [==============================] - 6s 4ms/step - loss: 9.8666 - acc: 0.9326 - val_loss: 10.0251 - val_acc: 0.9281\n",
      "Epoch 7/8\n",
      "1800/1800 [==============================] - 6s 3ms/step - loss: 9.8529 - acc: 0.9368 - val_loss: 10.0362 - val_acc: 0.9261\n",
      "Epoch 8/8\n",
      "1800/1800 [==============================] - 6s 3ms/step - loss: 9.8397 - acc: 0.9423 - val_loss: 10.0291 - val_acc: 0.9276\n"
     ]
    }
   ],
   "source": [
    "history = model.fit(X_train, np.array(y_train), batch_size=32, epochs=8,\n",
    "                    validation_split=0.1, verbose=1)"
   ]
  },
  {
   "cell_type": "code",
   "execution_count": 134,
   "metadata": {},
   "outputs": [],
   "source": [
    "hist = pd.DataFrame(history.history)"
   ]
  },
  {
   "cell_type": "code",
   "execution_count": 135,
   "metadata": {},
   "outputs": [
    {
     "data": {
      "image/png": "[encoded data removed]",
      "text/plain": [
       "<matplotlib.figure.Figure at 0x1a357d8390>"
      ]
     },
     "metadata": {},
     "output_type": "display_data"
    }
   ],
   "source": [
    "import matplotlib.pyplot as plt\n",
    "%matplotlib inline\n",
    "plt.style.use(\"ggplot\")\n",
    "plt.figure(figsize=(12,12))\n",
    "plt.plot(hist[\"loss\"])\n",
    "plt.plot(hist[\"val_loss\"])\n",
    "plt.show()"
   ]
  },
  {
   "cell_type": "markdown",
   "metadata": {},
   "source": [
    "# predict on test dataset"
   ]
  },
  {
   "cell_type": "code",
   "execution_count": 136,
   "metadata": {},
   "outputs": [],
   "source": [
    "data = data_test\n",
    "\n",
    "# Sentence class\n",
    "class SentenceGetter(object):\n",
    "\n",
    "    def __init__(self, data):\n",
    "        self.n_sent = 1\n",
    "        self.data = data\n",
    "        self.empty = False\n",
    "        agg_func = lambda s: [(w, t) for w, t in zip(s[\"Word\"].values.tolist(),\n",
    "#                                                            s[\"POS\"].values.tolist(),\n",
    "                                                           s[\"Tag\"].values.tolist())]\n",
    "        self.grouped = self.data.groupby(\"Sentence #\").apply(agg_func)\n",
    "        self.sentences = [s for s in self.grouped]\n",
    "\n",
    "    def get_next(self):\n",
    "        try:\n",
    "            s = self.grouped[\"Sentence: {}\".format(self.n_sent)]\n",
    "            self.n_sent += 1\n",
    "            return s\n",
    "        except:\n",
    "            return None\n",
    "\n",
    "getter = SentenceGetter(data)\n",
    "sentences = getter.sentences # get all sentences\n",
    "   \n",
    "# Word2inx & Padding for X\n",
    "X = [[word2idx.get(w[0], 0) for w in s] for s in sentences]\n",
    "X_test = pad_sequences(maxlen=max_len, sequences=X, padding=\"post\", value=0)\n",
    "\n",
    "# Word2inx & Padding for y\n",
    "y = [[tag2idx[w[1]] for w in s] for s in sentences]\n",
    "y = pad_sequences(maxlen=max_len, sequences=y, padding=\"post\", value=0)\n",
    "\n",
    "# Get one-hot labels\n",
    "y_test = [to_categorical(i, num_classes=n_tags) for i in y]"
   ]
  },
  {
   "cell_type": "code",
   "execution_count": 137,
   "metadata": {},
   "outputs": [
    {
     "name": "stdout",
     "output_type": "stream",
     "text": [
      "[('serves', 'O'), ('really', 'O'), ('good', 'O'), ('sushi', 'B'), ('.', 'O')]\n",
      "[1183 3401 2591  176 1280    0    0    0    0    0    0    0    0    0\n",
      "    0    0    0    0    0    0    0    0    0    0    0    0    0    0\n",
      "    0    0    0    0    0    0    0    0    0    0    0    0    0    0\n",
      "    0    0    0    0    0    0    0    0    0    0    0    0    0    0\n",
      "    0    0    0    0    0    0    0    0    0    0    0    0    0    0\n",
      "    0    0    0    0    0]\n",
      "[1 1 1 3 1 0 0 0 0 0 0 0 0 0 0 0 0 0 0 0 0 0 0 0 0 0 0 0 0 0 0 0 0 0 0 0 0\n",
      " 0 0 0 0 0 0 0 0 0 0 0 0 0 0 0 0 0 0 0 0 0 0 0 0 0 0 0 0 0 0 0 0 0 0 0 0 0\n",
      " 0]\n"
     ]
    }
   ],
   "source": [
    "print(sentences[1])\n",
    "print(X_test[1])\n",
    "print(np.argmax(y_test[1], -1))"
   ]
  },
  {
   "cell_type": "code",
   "execution_count": 153,
   "metadata": {},
   "outputs": [
    {
     "name": "stdout",
     "output_type": "stream",
     "text": [
      "[('green', 'B'), ('tea', 'I'), ('creme', 'I'), ('brulee', 'I'), ('is', 'O'), ('a', 'B'), ('must', 'O'), ('!', 'O')]\n",
      "[3286 1088    0    0  539 2177 3012 3425    0    0    0    0    0    0\n",
      "    0    0    0    0    0    0    0    0    0    0    0    0    0    0\n",
      "    0    0    0    0    0    0    0    0    0    0    0    0    0    0\n",
      "    0    0    0    0    0    0    0    0    0    0    0    0    0    0\n",
      "    0    0    0    0    0    0    0    0    0    0    0    0    0    0\n",
      "    0    0    0    0    0]\n",
      "['B', 'I', 'I', 'I', 'O', 'B', 'O', 'O']\n",
      "['I', 'I', 'O', 'O', 'O', 'O', 'O', 'O']\n"
     ]
    }
   ],
   "source": [
    "# Predictions.\n",
    "idx2word = {value: key for key, value in word2idx.items()}\n",
    "idx2tag = {value: key for key, value in tag2idx.items()}\n",
    "\n",
    "\n",
    "true_all = np.argmax(y_test, -1)\n",
    "\n",
    "true_all_tags = [[idx2tag[idx] for idx in s if idx!=0] for s in true_all]\n",
    "\n",
    "p_all = model.predict(np.array(X_test)) # (4796, 75, 18)\n",
    "p_all= np.argmax(p_all, axis=-1) # (4796, 75)\n",
    "p_all_tags = [[idx2tag[idx] for idx in s] for s in p_all] # ['B-gpe', 'O', 'O', 'O']\n",
    "\n",
    "for i, true in enumerate(true_all_tags):\n",
    "    length = len(true)\n",
    "    p_all_tags[i] = p_all_tags[i][:length]\n",
    "\n",
    "p_all_tags = [[x.replace('<pad>', 'O') for x in s] for s in p_all_tags]\n",
    "\n",
    "# for (true_tag, p)\n",
    "\n",
    "print(sentences[3])\n",
    "print(X_test[3])\n",
    "print(true_all_tags[3])\n",
    "print(p_all_tags[3])"
   ]
  },
  {
   "cell_type": "code",
   "execution_count": 154,
   "metadata": {},
   "outputs": [
    {
     "name": "stdout",
     "output_type": "stream",
     "text": [
      "Word           ||True ||Pred\n",
      "==============================\n",
      "green          : B     I\n",
      "tea            : I     I\n",
      "creme          : I     O\n",
      "brulee         : I     O\n",
      "is             : O     O\n",
      "a              : B     O\n",
      "must           : O     O\n",
      "!              : O     O\n"
     ]
    }
   ],
   "source": [
    "print(\"{:15}||{:5}||{}\".format(\"Word\", \"True\", \"Pred\"))\n",
    "print(30 * \"=\")\n",
    "for w, t, pred in zip(sentences[3], true_all_tags[3], p_all_tags[3]):\n",
    "    if w != 0:\n",
    "        print(\"{:15}: {:5} {}\".format(w[0], w[1], pred))\n"
   ]
  },
  {
   "cell_type": "code",
   "execution_count": 155,
   "metadata": {},
   "outputs": [
    {
     "name": "stdout",
     "output_type": "stream",
     "text": [
      "0.41892832289492\n",
      "             precision    recall  f1-score   support\n",
      "\n",
      "          B       0.58      0.34      0.42       599\n",
      "          I       0.45      0.37      0.41       269\n",
      "\n",
      "avg / total       0.54      0.35      0.42       868\n",
      "\n"
     ]
    }
   ],
   "source": [
    "# Evaluation\n",
    "from seqeval.metrics import f1_score, classification_report\n",
    "print(f1_score(true_all_tags, p_all_tags))\n",
    "print(classification_report(true_all_tags, p_all_tags))\n"
   ]
  },
  {
   "cell_type": "code",
   "execution_count": null,
   "metadata": {},
   "outputs": [],
   "source": []
  }
 ],
 "metadata": {
  "kernelspec": {
   "display_name": "Python [conda env:py36]",
   "language": "python",
   "name": "conda-env-py36-py"
  },
  "language_info": {
   "codemirror_mode": {
    "name": "ipython",
    "version": 3
   },
   "file_extension": ".py",
   "mimetype": "text/x-python",
   "name": "python",
   "nbconvert_exporter": "python",
   "pygments_lexer": "ipython3",
   "version": "3.6.4"
  }
 },
 "nbformat": 4,
 "nbformat_minor": 2
}
