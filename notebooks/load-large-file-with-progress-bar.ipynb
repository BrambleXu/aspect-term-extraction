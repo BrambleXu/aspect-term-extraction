{
 "cells": [
  {
   "cell_type": "code",
   "execution_count": null,
   "metadata": {},
   "outputs": [],
   "source": []
  },
  {
   "cell_type": "code",
   "execution_count": null,
   "metadata": {},
   "outputs": [],
   "source": [
    "def load_glove(file):\n",
    "    \"\"\"Loads GloVe vectors in numpy array.\n",
    "    Args:\n",
    "        file (str): a path to a glove file.\n",
    "    Return:\n",
    "        dict: a dict of numpy arrays.\n",
    "    \"\"\"\n",
    "    model = {}\n",
    "    with open(file) as f:\n",
    "        for line in f:\n",
    "            line = line.split(' ')\n",
    "            word = line[0]\n",
    "            vector = np.array([float(val) for val in line[1:]])\n",
    "            model[word] = vector\n",
    "\n",
    "    return model"
   ]
  }
 ],
 "metadata": {
  "kernelspec": {
   "display_name": "Python [conda env:py36]",
   "language": "python",
   "name": "conda-env-py36-py"
  },
  "language_info": {
   "codemirror_mode": {
    "name": "ipython",
    "version": 3
   },
   "file_extension": ".py",
   "mimetype": "text/x-python",
   "name": "python",
   "nbconvert_exporter": "python",
   "pygments_lexer": "ipython3",
   "version": "3.6.4"
  }
 },
 "nbformat": 4,
 "nbformat_minor": 2
}
